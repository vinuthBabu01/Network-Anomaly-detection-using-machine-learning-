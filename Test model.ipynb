{
 "cells": [
  {
   "cell_type": "code",
   "execution_count": 1,
   "metadata": {},
   "outputs": [
    {
     "name": "stdout",
     "output_type": "stream",
     "text": [
      "pandas : 1.0.5\n",
      "numpy : 1.18.5\n",
      "matplotlib : 3.2.2\n",
      "seaborn : 0.10.1\n",
      "sklearn : 0.24.2\n"
     ]
    }
   ],
   "source": [
    "import pandas as pd\n",
    "import numpy as np\n",
    "import matplotlib\n",
    "import seaborn as sns\n",
    "import sklearn\n",
    "from sklearn.preprocessing import LabelEncoder, LabelBinarizer, StandardScaler\n",
    "#from keras.utils.np_utils import to_categorical\n",
    "from sklearn.metrics import accuracy_score, classification_report\n",
    "\n",
    "from sklearn.metrics import roc_auc_score, roc_curve\n",
    "from sklearn.linear_model import LogisticRegression, SGDClassifier\n",
    "from sklearn.ensemble import RandomForestClassifier\n",
    "from sklearn.svm import SVC\n",
    "from sklearn.tree import DecisionTreeClassifier\n",
    "import matplotlib.pyplot as plt\n",
    "import warnings\n",
    "warnings.filterwarnings('ignore')\n",
    "\n",
    "print(\"pandas : {0}\".format(pd.__version__))\n",
    "print(\"numpy : {0}\".format(np.__version__))\n",
    "print(\"matplotlib : {0}\".format(matplotlib.__version__))\n",
    "print(\"seaborn : {0}\".format(sns.__version__))\n",
    "print(\"sklearn : {0}\".format(sklearn.__version__))\n"
   ]
  },
  {
   "cell_type": "code",
   "execution_count": 4,
   "metadata": {},
   "outputs": [],
   "source": [
    "features = ['frame.interface_id',\n",
    " 'frame.dlt', 'frame.offset_shift',\n",
    " 'frame.time_epoch', 'frame.time_delta',\n",
    " 'frame.time_delta_displayed', 'frame.time_relative',\n",
    " 'frame.len', 'frame.cap_len',\n",
    " 'frame.marked', 'frame.ignored',\n",
    " 'radiotap.version', 'radiotap.pad',\n",
    " 'radiotap.length', 'radiotap.present.tsft',\n",
    " 'radiotap.present.flags', 'radiotap.present.rate',\n",
    " 'radiotap.present.channel', 'radiotap.present.fhss',\n",
    " 'radiotap.present.dbm_antsignal', 'radiotap.present.dbm_antnoise',\n",
    " 'radiotap.present.lock_quality', 'radiotap.present.tx_attenuation',\n",
    " 'radiotap.present.db_tx_attenuation', 'radiotap.present.dbm_tx_power',\n",
    " 'radiotap.present.antenna', 'radiotap.present.db_antsignal',\n",
    " 'radiotap.present.db_antnoise', 'radiotap.present.rxflags',\n",
    " 'radiotap.present.xchannel', 'radiotap.present.mcs',\n",
    " 'radiotap.present.ampdu', 'radiotap.present.vht',\n",
    " 'radiotap.present.reserved', 'radiotap.present.rtap_ns',\n",
    " 'radiotap.present.vendor_ns', 'radiotap.present.ext', 'radiotap.mactime',\n",
    " 'radiotap.flags.cfp', 'radiotap.flags.preamble',\n",
    " 'radiotap.flags.wep', 'radiotap.flags.frag',\n",
    " 'radiotap.flags.fcs', 'radiotap.flags.datapad',\n",
    " 'radiotap.flags.badfcs', 'radiotap.flags.shortgi',\n",
    " 'radiotap.datarate', 'radiotap.channel.freq',\n",
    " 'radiotap.channel.type.turbo', 'radiotap.channel.type.cck',\n",
    " 'radiotap.channel.type.ofdm', 'radiotap.channel.type.2ghz',\n",
    " 'radiotap.channel.type.5ghz', 'radiotap.channel.type.passive',\n",
    " 'radiotap.channel.type.dynamic', 'radiotap.channel.type.gfsk',\n",
    " 'radiotap.channel.type.gsm', 'radiotap.channel.type.sturbo',\n",
    " 'radiotap.channel.type.half', 'radiotap.channel.type.quarter',\n",
    " 'radiotap.dbm_antsignal', 'radiotap.antenna',\n",
    " 'radiotap.rxflags.badplcp', 'wlan.fc.type_subtype', 'wlan.fc.version',\n",
    " 'wlan.fc.type', 'wlan.fc.subtype',\n",
    " 'wlan.fc.ds', 'wlan.fc.frag',\n",
    " 'wlan.fc.retry', 'wlan.fc.pwrmgt',\n",
    " 'wlan.fc.moredata', 'wlan.fc.protected',\n",
    " 'wlan.fc.order', 'wlan.duration',\n",
    " 'wlan.ra', 'wlan.da', 'wlan.ta',\n",
    " 'wlan.sa', 'wlan.bssid', 'wlan.frag', 'wlan.seq',\n",
    " 'wlan.bar.type', 'wlan.ba.control.ackpolicy',\n",
    " 'wlan.ba.control.multitid', 'wlan.ba.control.cbitmap',\n",
    " 'wlan.bar.compressed.tidinfo', 'wlan.ba.bm',\n",
    " 'wlan.fcs_good', 'wlan_mgt.fixed.capabilities.ess',\n",
    " 'wlan_mgt.fixed.capabilities.ibss', 'wlan_mgt.fixed.capabilities.cfpoll.ap',\n",
    " 'wlan_mgt.fixed.capabilities.privacy', 'wlan_mgt.fixed.capabilities.preamble',\n",
    " 'wlan_mgt.fixed.capabilities.pbcc', 'wlan_mgt.fixed.capabilities.agility',\n",
    " 'wlan_mgt.fixed.capabilities.spec_man', 'wlan_mgt.fixed.capabilities.short_slot_time',\n",
    " 'wlan_mgt.fixed.capabilities.apsd', 'wlan_mgt.fixed.capabilities.radio_measurement',\n",
    " 'wlan_mgt.fixed.capabilities.dsss_ofdm', 'wlan_mgt.fixed.capabilities.del_blk_ack',\n",
    " 'wlan_mgt.fixed.capabilities.imm_blk_ack', 'wlan_mgt.fixed.listen_ival',\n",
    " 'wlan_mgt.fixed.current_ap', 'wlan_mgt.fixed.status_code', 'wlan_mgt.fixed.timestamp',\n",
    " 'wlan_mgt.fixed.beacon', 'wlan_mgt.fixed.aid',\n",
    " 'wlan_mgt.fixed.reason_code', 'wlan_mgt.fixed.auth.alg',\n",
    " 'wlan_mgt.fixed.auth_seq', 'wlan_mgt.fixed.category_code',\n",
    " 'wlan_mgt.fixed.htact', 'wlan_mgt.fixed.chanwidth',\n",
    " 'wlan_mgt.fixed.fragment', 'wlan_mgt.fixed.sequence',\n",
    " 'wlan_mgt.tagged.all', 'wlan_mgt.ssid',\n",
    " 'wlan_mgt.ds.current_channel', 'wlan_mgt.tim.dtim_count',\n",
    " 'wlan_mgt.tim.dtim_period', 'wlan_mgt.tim.bmapctl.multicast',\n",
    " 'wlan_mgt.tim.bmapctl.offset', 'wlan_mgt.country_info.environment',\n",
    " 'wlan_mgt.rsn.version', 'wlan_mgt.rsn.gcs.type', 'wlan_mgt.rsn.pcs.count',\n",
    " 'wlan_mgt.rsn.akms.count', 'wlan_mgt.rsn.akms.type',\n",
    " 'wlan_mgt.rsn.capabilities.preauth', 'wlan_mgt.rsn.capabilities.no_pairwise',\n",
    " 'wlan_mgt.rsn.capabilities.ptksa_replay_counter', 'wlan_mgt.rsn.capabilities.gtksa_replay_counter',\n",
    " 'wlan_mgt.rsn.capabilities.mfpr', 'wlan_mgt.rsn.capabilities.mfpc',\n",
    " 'wlan_mgt.rsn.capabilities.peerkey', 'wlan_mgt.tcprep.trsmt_pow',\n",
    " 'wlan_mgt.tcprep.link_mrg', 'wlan.wep.iv',\n",
    " 'wlan.wep.key', 'wlan.wep.icv',\n",
    " 'wlan.tkip.extiv', 'wlan.ccmp.extiv',\n",
    " 'wlan.qos.tid', 'wlan.qos.priority',\n",
    " 'wlan.qos.eosp', 'wlan.qos.ack',\n",
    " 'wlan.qos.amsdupresent', 'wlan.qos.buf_state_indicated1',\n",
    " 'wlan.qos.bit4', 'wlan.qos.txop_dur_req',\n",
    " 'wlan.qos.buf_state_indicated2', 'data.len',\n",
    " 'class']"
   ]
  },
  {
   "cell_type": "code",
   "execution_count": 3,
   "metadata": {},
   "outputs": [],
   "source": [
    "awidtst= pd.read_csv(\"AWID-CLS-R-Tst\",header=None,names=features)"
   ]
  },
  {
   "cell_type": "code",
   "execution_count": 5,
   "metadata": {},
   "outputs": [],
   "source": [
    "awidtst.replace({\"?\":None}, inplace=True)\n",
    "null_column=awidtst.columns[awidtst.isnull().mean() >= 0.51]"
   ]
  },
  {
   "cell_type": "code",
   "execution_count": 6,
   "metadata": {},
   "outputs": [],
   "source": [
    "awidtst.drop(null_column, axis=1, inplace=True)\n",
    "awidtst.dropna(inplace=True)"
   ]
  },
  {
   "cell_type": "code",
   "execution_count": 7,
   "metadata": {},
   "outputs": [],
   "source": [
    "for col in awidtst.columns:\n",
    "    awidtst[col]=pd.to_numeric(awidtst[col], errors='ignore')\n",
    "from sklearn.preprocessing import LabelEncoder\n",
    "labelencoder= LabelEncoder()\n",
    "for col in awidtst.columns:\n",
    "    if awidtst[col].dtypes=='object':\n",
    "        awidtst[col] = labelencoder.fit_transform(awidtst[col])"
   ]
  },
  {
   "cell_type": "code",
   "execution_count": 8,
   "metadata": {},
   "outputs": [],
   "source": [
    "x=awidtst.iloc[:,:-1]\n",
    "y=awidtst.iloc[:,-1]\n",
    "from sklearn.model_selection import train_test_split\n",
    "x,x_test,y,y_test = train_test_split(x, y, test_size=0.7, random_state=1) "
   ]
  },
  {
   "cell_type": "code",
   "execution_count": 9,
   "metadata": {},
   "outputs": [
    {
     "data": {
      "text/plain": [
       "LogisticRegression(n_jobs=-1, random_state=0)"
      ]
     },
     "execution_count": 9,
     "metadata": {},
     "output_type": "execute_result"
    }
   ],
   "source": [
    "from sklearn.svm import SVC \n",
    "from sklearn.naive_bayes import BernoulliNB \n",
    "from sklearn import tree\n",
    "from sklearn.model_selection import cross_val_score\n",
    "from sklearn.neighbors import KNeighborsClassifier\n",
    "from sklearn.linear_model import LogisticRegression\n",
    "from sklearn.ensemble import RandomForestClassifier\n",
    "from sklearn.ensemble import VotingClassifier\n",
    "\n",
    "# Decision Tree Model\n",
    "DTC_Classifier = tree.DecisionTreeClassifier(criterion='entropy', random_state=0)\n",
    "DTC_Classifier.fit(x_test,y_test)\n",
    "\n",
    "# Gaussian Naive Baye Model\n",
    "BNB_Classifier = BernoulliNB()\n",
    "BNB_Classifier.fit(x_test,y_test)\n",
    "\n",
    "\n",
    "#LogisticRegression Model\n",
    "LGR_Classifier = LogisticRegression(n_jobs=-1, random_state=0)\n",
    "LGR_Classifier.fit(x_test,y_test)\n",
    "\n",
    "\n",
    "\n",
    "\n"
   ]
  },
  {
   "cell_type": "code",
   "execution_count": 10,
   "metadata": {},
   "outputs": [],
   "source": [
    "from sklearn import metrics\n",
    "A=DTC_Classifier.predict(x_test)\n",
    "import sklearn.metrics as metrics\n",
    "\n",
    "accuracy_d= metrics.accuracy_score(y_test, DTC_Classifier.predict(x_test))\n",
    "dtc_pred=DTC_Classifier.predict(x_test)\n",
    "confusion_matrix_d= metrics.confusion_matrix(y_test, DTC_Classifier.predict(x_test))\n",
    "classification_d= metrics.classification_report(y_test,DTC_Classifier.predict(x_test))"
   ]
  },
  {
   "cell_type": "code",
   "execution_count": 11,
   "metadata": {},
   "outputs": [],
   "source": [
    "B=BNB_Classifier.predict(x_test)\n",
    "import sklearn.metrics as metrics\n",
    "accuracy_n= metrics.accuracy_score(y_test,BNB_Classifier.predict(x_test))\n",
    "nbb_pred=BNB_Classifier.predict(x_test)\n",
    "confusion_matrix_n= metrics.confusion_matrix(y_test, BNB_Classifier.predict(x_test))\n",
    "classification_n= metrics.classification_report(y_test, BNB_Classifier.predict(x_test))"
   ]
  },
  {
   "cell_type": "code",
   "execution_count": 12,
   "metadata": {},
   "outputs": [],
   "source": [
    "L=LGR_Classifier.predict(x_test)\n",
    "import sklearn.metrics as metrics\n",
    "accuracy_L= metrics.accuracy_score(y_test,LGR_Classifier.predict(x_test))\n",
    "lgr_pred=LGR_Classifier.predict(x_test)\n",
    "confusion_matrix_L= metrics.confusion_matrix(y_test,LGR_Classifier.predict(x_test))\n",
    "classification_L= metrics.classification_report(y_test,LGR_Classifier.predict(x_test))"
   ]
  },
  {
   "cell_type": "markdown",
   "metadata": {},
   "source": [
    "# Accuracy and Confusion Matrix"
   ]
  },
  {
   "cell_type": "code",
   "execution_count": 13,
   "metadata": {},
   "outputs": [
    {
     "name": "stdout",
     "output_type": "stream",
     "text": [
      "DT Accuracy: 1.0\n",
      "DT confustion_matrix\n",
      "[[ 12923      0      0]\n",
      " [     0  11642      0]\n",
      " [     0      0 194709]]\n",
      "--------------------------------------------------------\n",
      "Navie Bayes Accuracy: 0.9825469503908352\n",
      "NBB confustion_matrix\n",
      "[[ 12923      0      0]\n",
      " [    97  11530     15]\n",
      " [   253   3462 190994]]\n",
      "--------------------------------------------------------\n",
      "LNR Accuracy: 0.8879712140974306\n",
      "confustion_matrix\n",
      "[[     0      0  12923]\n",
      " [     0      0  11642]\n",
      " [     0      0 194709]]\n",
      "--------------------------------------------------------\n"
     ]
    }
   ],
   "source": [
    "print('DT Accuracy:',accuracy_d)\n",
    "print('DT confustion_matrix')\n",
    "print(confusion_matrix_d)\n",
    "print(\"--------------------------------------------------------\")\n",
    "print('Navie Bayes Accuracy:',accuracy_n)\n",
    "print('NBB confustion_matrix')\n",
    "print(confusion_matrix_n)\n",
    "print(\"--------------------------------------------------------\")\n",
    "print('LNR Accuracy:',accuracy_L)\n",
    "print('confustion_matrix')\n",
    "print(confusion_matrix_L)\n",
    "print(\"--------------------------------------------------------\")\n"
   ]
  },
  {
   "cell_type": "markdown",
   "metadata": {},
   "source": [
    "# Classification report"
   ]
  },
  {
   "cell_type": "code",
   "execution_count": 14,
   "metadata": {},
   "outputs": [
    {
     "name": "stdout",
     "output_type": "stream",
     "text": [
      "Decision Tree:\n",
      "Classification report\n",
      "              precision    recall  f1-score   support\n",
      "\n",
      "           0       1.00      1.00      1.00     12923\n",
      "           1       1.00      1.00      1.00     11642\n",
      "           2       1.00      1.00      1.00    194709\n",
      "\n",
      "    accuracy                           1.00    219274\n",
      "   macro avg       1.00      1.00      1.00    219274\n",
      "weighted avg       1.00      1.00      1.00    219274\n",
      "\n",
      "--------------------------------------------------------\n",
      "Navie Bayes Accuracy:\n",
      "Classification report\n",
      "              precision    recall  f1-score   support\n",
      "\n",
      "           0       0.97      1.00      0.99     12923\n",
      "           1       0.77      0.99      0.87     11642\n",
      "           2       1.00      0.98      0.99    194709\n",
      "\n",
      "    accuracy                           0.98    219274\n",
      "   macro avg       0.91      0.99      0.95    219274\n",
      "weighted avg       0.99      0.98      0.98    219274\n",
      "\n",
      "--------------------------------------------------------\n",
      "LNR Accuracy:\n",
      "Classification report\n",
      "              precision    recall  f1-score   support\n",
      "\n",
      "           0       0.00      0.00      0.00     12923\n",
      "           1       0.00      0.00      0.00     11642\n",
      "           2       0.89      1.00      0.94    194709\n",
      "\n",
      "    accuracy                           0.89    219274\n",
      "   macro avg       0.30      0.33      0.31    219274\n",
      "weighted avg       0.79      0.89      0.84    219274\n",
      "\n",
      "--------------------------------------------------------\n"
     ]
    }
   ],
   "source": [
    "print('Decision Tree:')\n",
    "print('Classification report')\n",
    "print(classification_d)\n",
    "print(\"--------------------------------------------------------\")\n",
    "print('Navie Bayes Accuracy:')\n",
    "print('Classification report')\n",
    "print(classification_n)\n",
    "print(\"--------------------------------------------------------\")\n",
    "print('LNR Accuracy:')\n",
    "print('Classification report')\n",
    "print(classification_L)\n",
    "print(\"--------------------------------------------------------\")\n"
   ]
  },
  {
   "cell_type": "markdown",
   "metadata": {},
   "source": [
    "# Error rate"
   ]
  },
  {
   "cell_type": "code",
   "execution_count": 15,
   "metadata": {},
   "outputs": [
    {
     "name": "stdout",
     "output_type": "stream",
     "text": [
      "Error rate of models\n",
      "--------------------------------------------------------\n",
      "DT Error rate\n",
      "0.0\n",
      "--------------------------------------------------------\n",
      "NBB Error rate\n",
      "0.020914472304057935\n",
      "--------------------------------------------------------\n",
      "LGR Error rate\n",
      "0.28883497359468063\n",
      "--------------------------------------------------------\n"
     ]
    }
   ],
   "source": [
    "from sklearn.metrics import mean_squared_error\n",
    "print(\"Error rate of models\")\n",
    "print(\"--------------------------------------------------------\")\n",
    "print(\"DT Error rate\")\n",
    "a=mean_squared_error(y_test,dtc_pred)\n",
    "print(a)\n",
    "print(\"--------------------------------------------------------\")\n",
    "print(\"NBB Error rate\")\n",
    "b=mean_squared_error(y_test,nbb_pred)\n",
    "print(b)\n",
    "print(\"--------------------------------------------------------\")\n",
    "print(\"LGR Error rate\")\n",
    "c=mean_squared_error(y_test,lgr_pred)\n",
    "print(c)\n",
    "print(\"--------------------------------------------------------\")\n"
   ]
  },
  {
   "cell_type": "code",
   "execution_count": 16,
   "metadata": {},
   "outputs": [
    {
     "data": {
      "image/png": "[encoded data removed]",
      "text/plain": [
       "<Figure size 720x360 with 1 Axes>"
      ]
     },
     "metadata": {
      "needs_background": "light"
     },
     "output_type": "display_data"
    }
   ],
   "source": [
    "data = {'NB':accuracy_n,'DT':accuracy_d,'LGR':accuracy_L}\n",
    "import numpy as np\n",
    "import matplotlib.pyplot as plt\n",
    "courses = list(data.keys())\n",
    "values = list(data.values())\n",
    "  \n",
    "fig = plt.figure(figsize = (10, 5))\n",
    " \n",
    "# creating the bar plot\n",
    "plt.bar(courses, values, color ='green',\n",
    "        width = 0.4)\n",
    " \n",
    "plt.xlabel(\"ML Models\")\n",
    "plt.ylabel(\"Accuracy value\")\n",
    "plt.title(\"Accuracy of the different ML Models\")\n",
    "plt.show()"
   ]
  },
  {
   "cell_type": "code",
   "execution_count": null,
   "metadata": {},
   "outputs": [],
   "source": []
  }
 ],
 "metadata": {
  "interpreter": {
   "hash": "dc41b0e60daaf2b7bff36cc16261c34da2ffa1c01089b9078437f9339c4b8e70"
  },
  "kernelspec": {
   "display_name": "Python 3",
   "language": "python",
   "name": "python3"
  },
  "language_info": {
   "codemirror_mode": {
    "name": "ipython",
    "version": 3
   },
   "file_extension": ".py",
   "mimetype": "text/x-python",
   "name": "python",
   "nbconvert_exporter": "python",
   "pygments_lexer": "ipython3",
   "version": "3.8.3"
  }
 },
 "nbformat": 4,
 "nbformat_minor": 4
}
